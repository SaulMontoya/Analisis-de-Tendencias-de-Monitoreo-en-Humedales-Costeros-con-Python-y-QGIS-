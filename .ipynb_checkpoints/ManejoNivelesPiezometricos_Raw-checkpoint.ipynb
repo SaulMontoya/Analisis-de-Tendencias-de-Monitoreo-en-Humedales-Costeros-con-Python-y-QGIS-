{
 "cells": [
  {
   "cell_type": "code",
   "execution_count": 10,
   "metadata": {
    "collapsed": false
   },
   "outputs": [
    {
     "name": "stdout",
     "output_type": "stream",
     "text": [
      "Populating the interactive namespace from numpy and matplotlib\n",
      "SNLM_Tabla_Caudales_v3.xlsx         Tabla_NivFreat_LagunaMejia_v2.xlsx\r\n",
      "Tabla_NivFreat_LagunaMejia_v2.csv\r\n"
     ]
    }
   ],
   "source": [
    "import pandas as pd\n",
    "%pylab inline\n",
    "%ls Tablas"
   ]
  },
  {
   "cell_type": "code",
   "execution_count": 11,
   "metadata": {
    "collapsed": false
   },
   "outputs": [
    {
     "data": {
      "text/html": [
       "<div>\n",
       "<table border=\"1\" class=\"dataframe\">\n",
       "  <thead>\n",
       "    <tr style=\"text-align: right;\">\n",
       "      <th></th>\n",
       "      <th>Fecha</th>\n",
       "      <th>Cota Terreno</th>\n",
       "      <th>Lectura mes ant</th>\n",
       "      <th>Lectura mes act</th>\n",
       "      <th>Cota del nivel de agua (msnm)</th>\n",
       "    </tr>\n",
       "    <tr>\n",
       "      <th>Piezómetro</th>\n",
       "      <th></th>\n",
       "      <th></th>\n",
       "      <th></th>\n",
       "      <th></th>\n",
       "      <th></th>\n",
       "    </tr>\n",
       "  </thead>\n",
       "  <tbody>\n",
       "    <tr>\n",
       "      <th>1</th>\n",
       "      <td>16/01/2016</td>\n",
       "      <td>2.67</td>\n",
       "      <td>1.11</td>\n",
       "      <td>1.23</td>\n",
       "      <td>1.56</td>\n",
       "    </tr>\n",
       "    <tr>\n",
       "      <th>2</th>\n",
       "      <td>16/01/2016</td>\n",
       "      <td>1.90</td>\n",
       "      <td>0.90</td>\n",
       "      <td>0.82</td>\n",
       "      <td>1.00</td>\n",
       "    </tr>\n",
       "    <tr>\n",
       "      <th>3</th>\n",
       "      <td>16/01/2016</td>\n",
       "      <td>1.82</td>\n",
       "      <td>1.01</td>\n",
       "      <td>0.66</td>\n",
       "      <td>0.81</td>\n",
       "    </tr>\n",
       "    <tr>\n",
       "      <th>4</th>\n",
       "      <td>16/01/2016</td>\n",
       "      <td>3.34</td>\n",
       "      <td>1.35</td>\n",
       "      <td>1.47</td>\n",
       "      <td>1.99</td>\n",
       "    </tr>\n",
       "    <tr>\n",
       "      <th>5</th>\n",
       "      <td>16/01/2016</td>\n",
       "      <td>3.11</td>\n",
       "      <td>0.67</td>\n",
       "      <td>0.56</td>\n",
       "      <td>2.44</td>\n",
       "    </tr>\n",
       "  </tbody>\n",
       "</table>\n",
       "</div>"
      ],
      "text/plain": [
       "                 Fecha  Cota Terreno Lectura mes ant Lectura mes act  \\\n",
       "Piezómetro                                                             \n",
       "1           16/01/2016          2.67            1.11            1.23   \n",
       "2           16/01/2016          1.90            0.90            0.82   \n",
       "3           16/01/2016          1.82            1.01            0.66   \n",
       "4           16/01/2016          3.34            1.35            1.47   \n",
       "5           16/01/2016          3.11            0.67            0.56   \n",
       "\n",
       "            Cota del nivel de agua (msnm)  \n",
       "Piezómetro                                 \n",
       "1                                    1.56  \n",
       "2                                    1.00  \n",
       "3                                    0.81  \n",
       "4                                    1.99  \n",
       "5                                    2.44  "
      ]
     },
     "execution_count": 11,
     "metadata": {},
     "output_type": "execute_result"
    }
   ],
   "source": [
    "#importamos los datos\n",
    "DatosPiezTotales = pd.read_csv('Tablas/Tabla_NivFreat_LagunaMejia_v2.csv',index_col=0)\n",
    "DatosPiezTotales.head()"
   ]
  },
  {
   "cell_type": "code",
   "execution_count": 12,
   "metadata": {
    "collapsed": false
   },
   "outputs": [
    {
     "data": {
      "text/html": [
       "<div>\n",
       "<table border=\"1\" class=\"dataframe\">\n",
       "  <thead>\n",
       "    <tr style=\"text-align: right;\">\n",
       "      <th></th>\n",
       "      <th>Fecha</th>\n",
       "      <th>ElevNapa</th>\n",
       "    </tr>\n",
       "    <tr>\n",
       "      <th>Piezómetro</th>\n",
       "      <th></th>\n",
       "      <th></th>\n",
       "    </tr>\n",
       "  </thead>\n",
       "  <tbody>\n",
       "    <tr>\n",
       "      <th>1</th>\n",
       "      <td>16/01/2016</td>\n",
       "      <td>1.56</td>\n",
       "    </tr>\n",
       "    <tr>\n",
       "      <th>2</th>\n",
       "      <td>16/01/2016</td>\n",
       "      <td>1.00</td>\n",
       "    </tr>\n",
       "    <tr>\n",
       "      <th>3</th>\n",
       "      <td>16/01/2016</td>\n",
       "      <td>0.81</td>\n",
       "    </tr>\n",
       "    <tr>\n",
       "      <th>4</th>\n",
       "      <td>16/01/2016</td>\n",
       "      <td>1.99</td>\n",
       "    </tr>\n",
       "    <tr>\n",
       "      <th>5</th>\n",
       "      <td>16/01/2016</td>\n",
       "      <td>2.44</td>\n",
       "    </tr>\n",
       "  </tbody>\n",
       "</table>\n",
       "</div>"
      ],
      "text/plain": [
       "                 Fecha  ElevNapa\n",
       "Piezómetro                      \n",
       "1           16/01/2016      1.56\n",
       "2           16/01/2016      1.00\n",
       "3           16/01/2016      0.81\n",
       "4           16/01/2016      1.99\n",
       "5           16/01/2016      2.44"
      ]
     },
     "execution_count": 12,
     "metadata": {},
     "output_type": "execute_result"
    }
   ],
   "source": [
    "#Cambiamos los encabezados\n",
    "DatosPiezTotales = DatosPiezTotales.rename(columns={'Cota del nivel de agua (msnm)':'ElevNapa'})\n",
    "\n",
    "#Solo nos quedamos con las fechas y niveles\n",
    "DatosPiezNiveles = DatosPiezTotales.iloc[:,[0,4]]\n",
    "DatosPiezNiveles.head()"
   ]
  },
  {
   "cell_type": "code",
   "execution_count": 13,
   "metadata": {
    "collapsed": false
   },
   "outputs": [
    {
     "name": "stderr",
     "output_type": "stream",
     "text": [
      "/Library/Frameworks/Python.framework/Versions/3.5/lib/python3.5/site-packages/ipykernel/__main__.py:2: SettingWithCopyWarning: \n",
      "A value is trying to be set on a copy of a slice from a DataFrame.\n",
      "Try using .loc[row_indexer,col_indexer] = value instead\n",
      "\n",
      "See the caveats in the documentation: http://pandas.pydata.org/pandas-docs/stable/indexing.html#indexing-view-versus-copy\n",
      "  from ipykernel import kernelapp as app\n"
     ]
    },
    {
     "data": {
      "text/plain": [
       "array(['2016-01-15T19:00:00.000000000-0500',\n",
       "       '2016-02-15T19:00:00.000000000-0500',\n",
       "       '2016-03-07T19:00:00.000000000-0500',\n",
       "       '2016-04-11T19:00:00.000000000-0500',\n",
       "       '2016-05-11T19:00:00.000000000-0500',\n",
       "       '2015-01-12T19:00:00.000000000-0500',\n",
       "       '2015-02-09T19:00:00.000000000-0500',\n",
       "       '2015-03-12T19:00:00.000000000-0500',\n",
       "       '2015-04-15T19:00:00.000000000-0500',\n",
       "       '2015-05-11T19:00:00.000000000-0500'], dtype='datetime64[ns]')"
      ]
     },
     "execution_count": 13,
     "metadata": {},
     "output_type": "execute_result"
    }
   ],
   "source": [
    "#identificamos una fecha\n",
    "DatosPiezNiveles['Fecha'] =  pd.to_datetime(DatosPiezNiveles['Fecha'], format='%d/%m/%Y')\n",
    "DatosPiezNiveles['Fecha'].unique()[:10]"
   ]
  },
  {
   "cell_type": "code",
   "execution_count": 14,
   "metadata": {
    "collapsed": false
   },
   "outputs": [
    {
     "data": {
      "text/plain": [
       "[<matplotlib.lines.Line2D at 0x108bc8978>]"
      ]
     },
     "execution_count": 14,
     "metadata": {},
     "output_type": "execute_result"
    },
    {
     "data": {
      "image/png": "[encoded data removed]",
      "text/plain": [
       "<matplotlib.figure.Figure at 0x107d69668>"
      ]
     },
     "metadata": {},
     "output_type": "display_data"
    }
   ],
   "source": [
    "#Para Piezometro 1\n",
    "DatosPiezo1 = DatosPiezNiveles.loc[DatosPiezNiveles.index == 1].sort_values(by='Fecha')\n",
    "plot(DatosPiezo1['Fecha'],DatosPiezo1['ElevNapa'],label='Piezometro 1')"
   ]
  },
  {
   "cell_type": "code",
   "execution_count": 15,
   "metadata": {
    "collapsed": false
   },
   "outputs": [
    {
     "ename": "NameError",
     "evalue": "name 'DatosNiveles' is not defined",
     "output_type": "error",
     "traceback": [
      "\u001b[0;31m---------------------------------------------------------------------------\u001b[0m",
      "\u001b[0;31mNameError\u001b[0m                                 Traceback (most recent call last)",
      "\u001b[0;32m<ipython-input-15-de0976d53f20>\u001b[0m in \u001b[0;36m<module>\u001b[0;34m()\u001b[0m\n\u001b[1;32m      1\u001b[0m \u001b[0;31m#Procesamos datos para Piezometros 1, 5, 10, 15, 20, 25, 30, 34\u001b[0m\u001b[0;34m\u001b[0m\u001b[0;34m\u001b[0m\u001b[0m\n\u001b[0;32m----> 2\u001b[0;31m \u001b[0mDatosPiezo1\u001b[0m \u001b[0;34m=\u001b[0m \u001b[0mDatosNiveles\u001b[0m\u001b[0;34m.\u001b[0m\u001b[0mloc\u001b[0m\u001b[0;34m[\u001b[0m\u001b[0mDatosNiveles\u001b[0m\u001b[0;34m.\u001b[0m\u001b[0mindex\u001b[0m \u001b[0;34m==\u001b[0m \u001b[0;36m1\u001b[0m\u001b[0;34m]\u001b[0m\u001b[0;34m.\u001b[0m\u001b[0mdropna\u001b[0m\u001b[0;34m(\u001b[0m\u001b[0;34m)\u001b[0m\u001b[0;34m.\u001b[0m\u001b[0msort_values\u001b[0m\u001b[0;34m(\u001b[0m\u001b[0mby\u001b[0m\u001b[0;34m=\u001b[0m\u001b[0;34m'Fecha'\u001b[0m\u001b[0;34m)\u001b[0m\u001b[0;34m\u001b[0m\u001b[0m\n\u001b[0m\u001b[1;32m      3\u001b[0m \u001b[0mDatosPiezo5\u001b[0m \u001b[0;34m=\u001b[0m \u001b[0mDatosNiveles\u001b[0m\u001b[0;34m.\u001b[0m\u001b[0mloc\u001b[0m\u001b[0;34m[\u001b[0m\u001b[0mDatosNiveles\u001b[0m\u001b[0;34m.\u001b[0m\u001b[0mindex\u001b[0m \u001b[0;34m==\u001b[0m \u001b[0;36m5\u001b[0m\u001b[0;34m]\u001b[0m\u001b[0;34m.\u001b[0m\u001b[0mdropna\u001b[0m\u001b[0;34m(\u001b[0m\u001b[0;34m)\u001b[0m\u001b[0;34m.\u001b[0m\u001b[0msort_values\u001b[0m\u001b[0;34m(\u001b[0m\u001b[0mby\u001b[0m\u001b[0;34m=\u001b[0m\u001b[0;34m'Fecha'\u001b[0m\u001b[0;34m)\u001b[0m\u001b[0;34m\u001b[0m\u001b[0m\n\u001b[1;32m      4\u001b[0m \u001b[0mDatosPiezo10\u001b[0m \u001b[0;34m=\u001b[0m \u001b[0mDatosNiveles\u001b[0m\u001b[0;34m.\u001b[0m\u001b[0mloc\u001b[0m\u001b[0;34m[\u001b[0m\u001b[0mDatosNiveles\u001b[0m\u001b[0;34m.\u001b[0m\u001b[0mindex\u001b[0m \u001b[0;34m==\u001b[0m \u001b[0;36m10\u001b[0m\u001b[0;34m]\u001b[0m\u001b[0;34m.\u001b[0m\u001b[0mdropna\u001b[0m\u001b[0;34m(\u001b[0m\u001b[0;34m)\u001b[0m\u001b[0;34m.\u001b[0m\u001b[0msort_values\u001b[0m\u001b[0;34m(\u001b[0m\u001b[0mby\u001b[0m\u001b[0;34m=\u001b[0m\u001b[0;34m'Fecha'\u001b[0m\u001b[0;34m)\u001b[0m\u001b[0;34m\u001b[0m\u001b[0m\n\u001b[1;32m      5\u001b[0m \u001b[0mDatosPiezo15\u001b[0m \u001b[0;34m=\u001b[0m \u001b[0mDatosNiveles\u001b[0m\u001b[0;34m.\u001b[0m\u001b[0mloc\u001b[0m\u001b[0;34m[\u001b[0m\u001b[0mDatosNiveles\u001b[0m\u001b[0;34m.\u001b[0m\u001b[0mindex\u001b[0m \u001b[0;34m==\u001b[0m \u001b[0;36m15\u001b[0m\u001b[0;34m]\u001b[0m\u001b[0;34m.\u001b[0m\u001b[0mdropna\u001b[0m\u001b[0;34m(\u001b[0m\u001b[0;34m)\u001b[0m\u001b[0;34m.\u001b[0m\u001b[0msort_values\u001b[0m\u001b[0;34m(\u001b[0m\u001b[0mby\u001b[0m\u001b[0;34m=\u001b[0m\u001b[0;34m'Fecha'\u001b[0m\u001b[0;34m)\u001b[0m\u001b[0;34m\u001b[0m\u001b[0m\n",
      "\u001b[0;31mNameError\u001b[0m: name 'DatosNiveles' is not defined"
     ]
    }
   ],
   "source": [
    "#Procesamos datos para Piezometros 1, 5, 10, 15, 20, 25, 30, 34\n",
    "DatosPiezo1 = DatosPiezNiveles.loc[DatosNiveles.index == 1].dropna().sort_values(by='Fecha')\n",
    "DatosPiezo5 = DatosPiezNiveles.loc[DatosNiveles.index == 5].dropna().sort_values(by='Fecha')\n",
    "DatosPiezo10 = DatosPiezNiveles.loc[DatosNiveles.index == 10].dropna().sort_values(by='Fecha')\n",
    "DatosPiezo15 = DatosPiezNiveles.loc[DatosNiveles.index == 15].dropna().sort_values(by='Fecha')\n",
    "DatosPiezo20 = DatosPiezNiveles.loc[DatosNiveles.index == 20].dropna().sort_values(by='Fecha')\n",
    "DatosPiezo25 = DatosPiezNiveles.loc[DatosNiveles.index == 25].dropna().sort_values(by='Fecha')\n",
    "DatosPiezo30 = DatosPiezNiveles.loc[DatosNiveles.index == 30].dropna().sort_values(by='Fecha')\n",
    "DatosPiezo34 = DatosPiezNiveles.loc[DatosNiveles.index == 34].dropna().sort_values(by='Fecha')"
   ]
  },
  {
   "cell_type": "code",
   "execution_count": null,
   "metadata": {
    "collapsed": true
   },
   "outputs": [],
   "source": []
  }
 ],
 "metadata": {
  "kernelspec": {
   "display_name": "Python 3",
   "language": "python",
   "name": "python3"
  },
  "language_info": {
   "codemirror_mode": {
    "name": "ipython",
    "version": 3
   },
   "file_extension": ".py",
   "mimetype": "text/x-python",
   "name": "python",
   "nbconvert_exporter": "python",
   "pygments_lexer": "ipython3",
   "version": "3.5.1"
  }
 },
 "nbformat": 4,
 "nbformat_minor": 0
}
